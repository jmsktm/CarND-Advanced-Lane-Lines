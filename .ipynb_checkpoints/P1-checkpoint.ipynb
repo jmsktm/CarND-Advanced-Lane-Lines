{
 "cells": [
  {
   "cell_type": "markdown",
   "metadata": {},
   "source": [
    "# Self-Driving Car Engineer Nanodegree\n",
    "\n",
    "\n",
    "## Project: **Finding Lane Lines on the Road** \n",
    "***\n",
    "In this project, you will use the tools you learned about in the lesson to identify lane lines on the road.  You can develop your pipeline on a series of individual images, and later apply the result to a video stream (really just a series of images). Check out the video clip \"raw-lines-example.mp4\" (also contained in this repository) to see what the output should look like after using the helper functions below. \n",
    "\n",
    "Once you have a result that looks roughly like \"raw-lines-example.mp4\", you'll need to get creative and try to average and/or extrapolate the line segments you've detected to map out the full extent of the lane lines.  You can see an example of the result you're going for in the video \"P1_example.mp4\".  Ultimately, you would like to draw just one line for the left side of the lane, and one for the right.\n",
    "\n",
    "In addition to implementing code, there is a brief writeup to complete. The writeup should be completed in a separate file, which can be either a markdown file or a pdf document. There is a [write up template](https://github.com/udacity/CarND-LaneLines-P1/blob/master/writeup_template.md) that can be used to guide the writing process. Completing both the code in the Ipython notebook and the writeup template will cover all of the [rubric points](https://review.udacity.com/#!/rubrics/322/view) for this project.\n",
    "\n",
    "---\n",
    "Let's have a look at our first image called 'test_images/solidWhiteRight.jpg'.  Run the 2 cells below (hit Shift-Enter or the \"play\" button above) to display the image.\n",
    "\n",
    "**Note: If, at any point, you encounter frozen display windows or other confounding issues, you can always start again with a clean slate by going to the \"Kernel\" menu above and selecting \"Restart & Clear Output\".**\n",
    "\n",
    "---"
   ]
  },
  {
   "cell_type": "markdown",
   "metadata": {},
   "source": [
    "**The tools you have are color selection, region of interest selection, grayscaling, Gaussian smoothing, Canny Edge Detection and Hough Tranform line detection.  You  are also free to explore and try other techniques that were not presented in the lesson.  Your goal is piece together a pipeline to detect the line segments in the image, then average/extrapolate them and draw them onto the image for display (as below).  Once you have a working pipeline, try it out on the video stream below.**\n",
    "\n",
    "---\n",
    "\n",
    "<figure>\n",
    " <img src=\"examples/line-segments-example.jpg\" width=\"380\" alt=\"Combined Image\" />\n",
    " <figcaption>\n",
    " <p></p> \n",
    " <p style=\"text-align: center;\"> Your output should look something like this (above) after detecting line segments using the helper functions below </p> \n",
    " </figcaption>\n",
    "</figure>\n",
    " <p></p> \n",
    "<figure>\n",
    " <img src=\"examples/laneLines_thirdPass.jpg\" width=\"380\" alt=\"Combined Image\" />\n",
    " <figcaption>\n",
    " <p></p> \n",
    " <p style=\"text-align: center;\"> Your goal is to connect/average/extrapolate line segments to get output like this</p> \n",
    " </figcaption>\n",
    "</figure>"
   ]
  },
  {
   "cell_type": "markdown",
   "metadata": {},
   "source": [
    "**Run the cell below to import some packages.  If you get an `import error` for a package you've already installed, try changing your kernel (select the Kernel menu above --> Change Kernel).  Still have problems?  Try relaunching Jupyter Notebook from the terminal prompt.  Also, consult the forums for more troubleshooting tips.**  "
   ]
  },
  {
   "cell_type": "markdown",
   "metadata": {},
   "source": [
    "## Import Packages"
   ]
  },
  {
   "cell_type": "code",
   "execution_count": 1,
   "metadata": {},
   "outputs": [],
   "source": [
    "#importing some useful packages\n",
    "import matplotlib.pyplot as plt\n",
    "import matplotlib.image as mpimg\n",
    "import scipy.stats as stats\n",
    "import scipy.signal as signal\n",
    "import numpy as np\n",
    "import cv2\n",
    "import math\n",
    "%matplotlib inline"
   ]
  },
  {
   "cell_type": "markdown",
   "metadata": {},
   "source": [
    "## Read in an Image"
   ]
  },
  {
   "cell_type": "code",
   "execution_count": 2,
   "metadata": {},
   "outputs": [
    {
     "ename": "FileNotFoundError",
     "evalue": "[Errno 2] No such file or directory: 'test_images/solidWhiteRight.jpg'",
     "output_type": "error",
     "traceback": [
      "\u001b[0;31m---------------------------------------------------------------------------\u001b[0m",
      "\u001b[0;31mFileNotFoundError\u001b[0m                         Traceback (most recent call last)",
      "\u001b[0;32m<ipython-input-2-2b620861b715>\u001b[0m in \u001b[0;36m<module>\u001b[0;34m()\u001b[0m\n\u001b[1;32m      1\u001b[0m \u001b[0;31m#reading in an image\u001b[0m\u001b[0;34m\u001b[0m\u001b[0;34m\u001b[0m\u001b[0m\n\u001b[0;32m----> 2\u001b[0;31m \u001b[0mimage\u001b[0m \u001b[0;34m=\u001b[0m \u001b[0mmpimg\u001b[0m\u001b[0;34m.\u001b[0m\u001b[0mimread\u001b[0m\u001b[0;34m(\u001b[0m\u001b[0;34m'test_images/solidWhiteRight.jpg'\u001b[0m\u001b[0;34m)\u001b[0m\u001b[0;34m\u001b[0m\u001b[0m\n\u001b[0m\u001b[1;32m      3\u001b[0m \u001b[0;34m\u001b[0m\u001b[0m\n\u001b[1;32m      4\u001b[0m \u001b[0;31m#printing out some stats and plotting\u001b[0m\u001b[0;34m\u001b[0m\u001b[0;34m\u001b[0m\u001b[0m\n\u001b[1;32m      5\u001b[0m \u001b[0mprint\u001b[0m\u001b[0;34m(\u001b[0m\u001b[0;34m'This image is:'\u001b[0m\u001b[0;34m,\u001b[0m \u001b[0mtype\u001b[0m\u001b[0;34m(\u001b[0m\u001b[0mimage\u001b[0m\u001b[0;34m)\u001b[0m\u001b[0;34m,\u001b[0m \u001b[0;34m'with dimensions:'\u001b[0m\u001b[0;34m,\u001b[0m \u001b[0mimage\u001b[0m\u001b[0;34m.\u001b[0m\u001b[0mshape\u001b[0m\u001b[0;34m)\u001b[0m\u001b[0;34m\u001b[0m\u001b[0m\n",
      "\u001b[0;32m~/anaconda3/lib/python3.7/site-packages/matplotlib/image.py\u001b[0m in \u001b[0;36mimread\u001b[0;34m(fname, format)\u001b[0m\n\u001b[1;32m   1355\u001b[0m \u001b[0;34m\u001b[0m\u001b[0m\n\u001b[1;32m   1356\u001b[0m     \u001b[0;32mif\u001b[0m \u001b[0mext\u001b[0m \u001b[0;32mnot\u001b[0m \u001b[0;32min\u001b[0m \u001b[0mhandlers\u001b[0m\u001b[0;34m:\u001b[0m\u001b[0;34m\u001b[0m\u001b[0m\n\u001b[0;32m-> 1357\u001b[0;31m         \u001b[0mim\u001b[0m \u001b[0;34m=\u001b[0m \u001b[0mpilread\u001b[0m\u001b[0;34m(\u001b[0m\u001b[0mfname\u001b[0m\u001b[0;34m)\u001b[0m\u001b[0;34m\u001b[0m\u001b[0m\n\u001b[0m\u001b[1;32m   1358\u001b[0m         \u001b[0;32mif\u001b[0m \u001b[0mim\u001b[0m \u001b[0;32mis\u001b[0m \u001b[0;32mNone\u001b[0m\u001b[0;34m:\u001b[0m\u001b[0;34m\u001b[0m\u001b[0m\n\u001b[1;32m   1359\u001b[0m             raise ValueError('Only know how to handle extensions: %s; '\n",
      "\u001b[0;32m~/anaconda3/lib/python3.7/site-packages/matplotlib/image.py\u001b[0m in \u001b[0;36mpilread\u001b[0;34m(fname)\u001b[0m\n\u001b[1;32m   1333\u001b[0m         \u001b[0;32mexcept\u001b[0m \u001b[0mImportError\u001b[0m\u001b[0;34m:\u001b[0m\u001b[0;34m\u001b[0m\u001b[0m\n\u001b[1;32m   1334\u001b[0m             \u001b[0;32mreturn\u001b[0m \u001b[0;32mNone\u001b[0m\u001b[0;34m\u001b[0m\u001b[0m\n\u001b[0;32m-> 1335\u001b[0;31m         \u001b[0;32mwith\u001b[0m \u001b[0mImage\u001b[0m\u001b[0;34m.\u001b[0m\u001b[0mopen\u001b[0m\u001b[0;34m(\u001b[0m\u001b[0mfname\u001b[0m\u001b[0;34m)\u001b[0m \u001b[0;32mas\u001b[0m \u001b[0mimage\u001b[0m\u001b[0;34m:\u001b[0m\u001b[0;34m\u001b[0m\u001b[0m\n\u001b[0m\u001b[1;32m   1336\u001b[0m             \u001b[0;32mreturn\u001b[0m \u001b[0mpil_to_array\u001b[0m\u001b[0;34m(\u001b[0m\u001b[0mimage\u001b[0m\u001b[0;34m)\u001b[0m\u001b[0;34m\u001b[0m\u001b[0m\n\u001b[1;32m   1337\u001b[0m \u001b[0;34m\u001b[0m\u001b[0m\n",
      "\u001b[0;32m~/anaconda3/lib/python3.7/site-packages/PIL/Image.py\u001b[0m in \u001b[0;36mopen\u001b[0;34m(fp, mode)\u001b[0m\n\u001b[1;32m   2578\u001b[0m \u001b[0;34m\u001b[0m\u001b[0m\n\u001b[1;32m   2579\u001b[0m     \u001b[0;32mif\u001b[0m \u001b[0mfilename\u001b[0m\u001b[0;34m:\u001b[0m\u001b[0;34m\u001b[0m\u001b[0m\n\u001b[0;32m-> 2580\u001b[0;31m         \u001b[0mfp\u001b[0m \u001b[0;34m=\u001b[0m \u001b[0mbuiltins\u001b[0m\u001b[0;34m.\u001b[0m\u001b[0mopen\u001b[0m\u001b[0;34m(\u001b[0m\u001b[0mfilename\u001b[0m\u001b[0;34m,\u001b[0m \u001b[0;34m\"rb\"\u001b[0m\u001b[0;34m)\u001b[0m\u001b[0;34m\u001b[0m\u001b[0m\n\u001b[0m\u001b[1;32m   2581\u001b[0m         \u001b[0mexclusive_fp\u001b[0m \u001b[0;34m=\u001b[0m \u001b[0;32mTrue\u001b[0m\u001b[0;34m\u001b[0m\u001b[0m\n\u001b[1;32m   2582\u001b[0m \u001b[0;34m\u001b[0m\u001b[0m\n",
      "\u001b[0;31mFileNotFoundError\u001b[0m: [Errno 2] No such file or directory: 'test_images/solidWhiteRight.jpg'"
     ]
    }
   ],
   "source": [
    "#reading in an image\n",
    "image = mpimg.imread('test_images/solidWhiteRight.jpg')\n",
    "\n",
    "#printing out some stats and plotting\n",
    "print('This image is:', type(image), 'with dimensions:', image.shape)\n",
    "plt.imshow(image)  # if you wanted to show a single color channel image called 'gray', for example, call as plt.imshow(gray, cmap='gray')"
   ]
  },
  {
   "cell_type": "markdown",
   "metadata": {},
   "source": [
    "## Ideas for Lane Detection Pipeline"
   ]
  },
  {
   "cell_type": "markdown",
   "metadata": {},
   "source": [
    "**Some OpenCV functions (beyond those introduced in the lesson) that might be useful for this project are:**\n",
    "\n",
    "`cv2.inRange()` for color selection  \n",
    "`cv2.fillPoly()` for regions selection  \n",
    "`cv2.line()` to draw lines on an image given endpoints  \n",
    "`cv2.addWeighted()` to coadd / overlay two images\n",
    "`cv2.cvtColor()` to grayscale or change color\n",
    "`cv2.imwrite()` to output images to file  \n",
    "`cv2.bitwise_and()` to apply a mask to an image\n",
    "\n",
    "**Check out the OpenCV documentation to learn about these and discover even more awesome functionality!**"
   ]
  },
  {
   "cell_type": "markdown",
   "metadata": {},
   "source": [
    "## Helper Functions"
   ]
  },
  {
   "cell_type": "markdown",
   "metadata": {},
   "source": [
    "Below are some helper functions to help get you started. They should look familiar from the lesson!"
   ]
  },
  {
   "cell_type": "markdown",
   "metadata": {},
   "source": [
    "### Utility Functions"
   ]
  },
  {
   "cell_type": "code",
   "execution_count": null,
   "metadata": {},
   "outputs": [],
   "source": [
    "# Needed only for testing purpose\n",
    "def one_to_three_channel(single_channel_image):\n",
    "    return np.stack((single_channel_image,)*3, -1)\n",
    "\n",
    "def slope_of_line(x1, y1, x2, y2):\n",
    "    deg = math.degrees(math.atan2((y2 - y1), (x2 - x1)))\n",
    "    return deg\n",
    "\n",
    "def length_of_line(x1, y1, x2, y2):\n",
    "    return math.sqrt((x2 - x1)**2 + (y2 - y1)**2)\n",
    "\n",
    "\"\"\"\n",
    "In a normal scenario, the lanes are at certain angles\n",
    "(35 +/- 10 degrees) in the image. The lines which do\n",
    "satisfy these criteria should mostly be okay to remove.\n",
    "\"\"\"\n",
    "def include_line(slope):\n",
    "    expected_angle = 45\n",
    "    deviation = 18\n",
    "    min = expected_angle - deviation\n",
    "    max = expected_angle + deviation\n",
    "    int_slope = abs(int(slope))\n",
    "    \n",
    "    if int_slope < min or int_slope > max:\n",
    "        return False\n",
    "    return True\n",
    "\n",
    "\"\"\"\n",
    "This function takes hough lines as input, and uses the information\n",
    "to arrive at two straight lanes which correspond to the left and\n",
    "the right lanes.\n",
    "\"\"\"\n",
    "def final_lines(lines, video_width, ymin, ymax):\n",
    "    \n",
    "    # Find the middle of screen (widthwise). We will use this to determine\n",
    "    # whether a line/coordinate will be used to generate the left or\n",
    "    # the right lane\n",
    "    mid = video_width / 2\n",
    "    \n",
    "    #Initializing numpy arrays to store coordinates from hough lines\n",
    "    left_x, left_y, right_x, right_y = np.array([]), np.array([]), np.array([]), np.array([])\n",
    "    \n",
    "    # Initializing the end coordinates of the left lane:\n",
    "    # (left_x1, left_y1) and (left_x2, left_y2)\n",
    "    left_x1, left_y1, left_x2, left_y2 = 0., 0., 0., 0.\n",
    "    \n",
    "    # Initializing the end coordinates of the right lane:\n",
    "    # (right_x1, right_y1) and (right_x2, right_y2)\n",
    "    right_x1, right_y1, right_x2, right_y2 = 0., 0., 0., 0.\n",
    "    \n",
    "    for line in lines:\n",
    "        for x1, y1, x2, y2 in line:\n",
    "            \n",
    "            # Calculating slope, length of line etc to determine whether or\n",
    "            # not to include the hough line to come to the final result (two lines)\n",
    "            slope = slope_of_line(x1, y1, x2, y2)\n",
    "            length = length_of_line(x1, y1, x2, y2)\n",
    "            \n",
    "            # Considering only those lines which meets the criteria. Eg.\n",
    "            # if the line is to the left of the image, the slope should be\n",
    "            # negative and between certain degrees. Same for the hough lines on the right.\n",
    "            \n",
    "            # If they meet the criteria, the end coordinates of the lines are\n",
    "            # stored in the respective numpy arrays.\n",
    "            if ((x1 < mid and x2 < mid and slope < 0 and include_line(slope) == True) or (x1 > mid and x2 > mid and slope > 0 and include_line(slope) == True)):\n",
    "                if x1 < mid:\n",
    "                    left_x, left_y = np.append(left_x, [x1]), np.append(left_y, [y1])\n",
    "                else:\n",
    "                    right_x, right_y = np.append(right_x, [x1]), np.append(right_y, [y1])\n",
    "\n",
    "                if x2 < mid:\n",
    "                    left_x, left_y = np.append(left_x, [x2]), np.append(left_y, [y2])\n",
    "                else:\n",
    "                    right_x, right_y = np.append(right_x, [x2]), np.append(right_y, [y2])\n",
    "    \n",
    "    # If the arrays are empty, they cannot be regressed. Otherwise, we perform\n",
    "    # curve-fitting on the array using linear regression function.\n",
    "    \n",
    "    # Once we have slopes(slope_left, slope_right) and y-intercepts(intercept_left, intercept_right)\n",
    "    # of both the lines (left and right), we find the x and y coordinates of the lines (lanes)\n",
    "    # between y=ymin and y=ymax using the formula y=mx+b (or x=(y-b)/m)\n",
    "    # of both the lines at y=ymin and y=ymax  \n",
    "    \n",
    "    if left_x.size>0 and left_y.size >0:\n",
    "        slope_left, intercept_left, r_value1, p_value1, std_err1 = stats.linregress(left_x, left_y)\n",
    "        left_x1, left_y1, left_x2, left_y2 = (ymax - intercept_left) / slope_left, ymax, (ymin - intercept_left) / slope_left, ymin\n",
    "\n",
    "    if right_x.size>0 and right_y.size >0:\n",
    "        slope_right, intercept_right, r_value2, p_value2, std_err2 = stats.linregress(right_x, right_y)\n",
    "        right_x1, right_y1, right_x2, right_y2 = (ymin - intercept_right) / slope_right, ymin, (ymax - intercept_right) / slope_right, ymax\n",
    "\n",
    "    # Returning the end-coordinates of the lanes as an array.\n",
    "    return np.array([left_x1, left_y1, left_x2, left_y2, right_x1, right_y1, right_x2, right_y2]).astype(int)\n",
    "    "
   ]
  },
  {
   "cell_type": "markdown",
   "metadata": {},
   "source": [
    "### Helpers for Image Transformation"
   ]
  },
  {
   "cell_type": "code",
   "execution_count": null,
   "metadata": {},
   "outputs": [],
   "source": [
    "\n",
    "\"\"\"\n",
    "This function creates an applies a mask on the image to only\n",
    "return the white and yellow regions of the image (which usually\n",
    "corresponds to lane color)\n",
    "\"\"\"\n",
    "def filter_white_and_yellow(image):\n",
    "    # Building a white mask\n",
    "    lower = np.uint8([200, 200, 200])\n",
    "    upper = np.uint8([255, 255, 255])\n",
    "    white_mask = cv2.inRange(image, lower, upper)\n",
    "    \n",
    "    # Building a yellow mask\n",
    "    lower = np.uint8([190, 190,   0])\n",
    "    upper = np.uint8([255, 255, 255])\n",
    "    yellow_mask = cv2.inRange(image, lower, upper)\n",
    "    \n",
    "    # Merging white and yellow mask\n",
    "    mask = cv2.bitwise_or(white_mask, yellow_mask)\n",
    "    \n",
    "    # Applying mask on the given image and returning the result.\n",
    "    masked = cv2.bitwise_and(image, image, mask = mask)\n",
    "    return masked\n",
    "\n",
    "\"\"\"\n",
    "This function applies the Grayscale transformation on the\n",
    "provided image to return a one-colr grayscale image.\n",
    "NOTE: to see the returned image as grayscale\n",
    "(assuming your grayscaled image is called 'gray')\n",
    "you should call plt.imshow(gray, cmap='gray')\n",
    "\"\"\"\n",
    "def grayscale(img):\n",
    "    return cv2.cvtColor(img, cv2.COLOR_RGB2GRAY)\n",
    "    # Or use BGR2GRAY if you read an image with cv2.imread()\n",
    "    # return cv2.cvtColor(img, cv2.COLOR_BGR2GRAY)\n",
    "\n",
    "\"\"\"\n",
    "Applies a Gaussian Noise kernel\n",
    "\"\"\"\n",
    "def gaussian_blur(img, kernel_size):\n",
    "    return cv2.GaussianBlur(img, (kernel_size, kernel_size), 0)\n",
    "\n",
    "\"\"\"\n",
    "Applies an image mask to extractthe region of the image defined by the \n",
    "polygon formed from `vertices`. The rest of the image is set to black.\n",
    "`vertices` should be a numpy array of integer points.\n",
    "\"\"\"\n",
    "def region_of_interest(img, vertices):\n",
    "    \n",
    "    #defining a blank mask to start with\n",
    "    mask = np.zeros_like(img)   \n",
    "    \n",
    "    #defining a 3 channel or 1 channel color to fill the mask with depending on the input image\n",
    "    if len(img.shape) > 2:\n",
    "        channel_count = img.shape[2]  # i.e. 3 or 4 depending on your image\n",
    "        ignore_mask_color = (255,) * channel_count\n",
    "    else:\n",
    "        ignore_mask_color = 255\n",
    "        \n",
    "    #filling pixels inside the polygon defined by \"vertices\" with the fill color    \n",
    "    cv2.fillPoly(mask, vertices, ignore_mask_color)\n",
    "    \n",
    "    #returning the image only where mask pixels are nonzero\n",
    "    masked_image = cv2.bitwise_and(img, mask)\n",
    "    return masked_image\n",
    "\n",
    "\"\"\"\n",
    "Applies the Canny transformation on the provided image\n",
    "\"\"\"\n",
    "def canny(img, low_threshold, high_threshold):\n",
    "    return cv2.Canny(img, low_threshold, high_threshold)\n",
    "\n",
    "\"\"\"\n",
    "NOTE: this is the function you might want to use as a starting point once you want to \n",
    "average/extrapolate the line segments you detect to map out the full\n",
    "extent of the lane (going from the result shown in raw-lines-example.mp4\n",
    "to that shown in P1_example.mp4).  \n",
    "\n",
    "Think about things like separating line segments by their \n",
    "slope ((y2-y1)/(x2-x1)) to decide which segments are part of the left\n",
    "line vs. the right line.  Then, you can average the position of each of \n",
    "the lines and extrapolate to the top and bottom of the lane.\n",
    "\n",
    "This function draws `lines` with `color` and `thickness`.    \n",
    "Lines are drawn on the image inplace (mutates the image).\n",
    "If you want to make the lines semi-transparent, think about combining\n",
    "this function with the weighted_img() function.\n",
    "\n",
    "\"\"\"\n",
    "def draw_lines(img, lines, video_width, ymin, ymax, color, thickness):    \n",
    "    final_lines_result = final_lines(lines, video_width, ymin, ymax)\n",
    "    if final_lines_result is not None:\n",
    "        [left_x1, left_y1, left_x2, left_y2, right_x1, right_y1, right_x2, right_y2] = final_lines_result\n",
    "        cv2.line(img, (left_x1, left_y1), (left_x2, left_y2), color, thickness)\n",
    "        cv2.line(img, (right_x1, right_y1), (right_x2, right_y2), color, thickness)\n",
    "\n",
    "\"\"\"\n",
    "This function takes an image (output of Canny transformation) and\n",
    "returns an (empty) image containing two straight lines derived from\n",
    "Hough lines.\n",
    "\"\"\"\n",
    "def hough_lines(img, rho, theta, threshold, min_line_len, max_line_gap, video_width, ymin, ymax, color, thickness):\n",
    "    lines = cv2.HoughLinesP(img, rho, theta, threshold, np.array([]), minLineLength=min_line_len, maxLineGap=max_line_gap)\n",
    "    line_img = np.zeros((img.shape[0], img.shape[1], 3), dtype=np.uint8)\n",
    "    draw_lines(line_img, lines, video_width, ymin, ymax, color, thickness)\n",
    "    return line_img\n",
    "\n",
    "\"\"\"\n",
    "This function takes the original image (initial_img) and the empty image with\n",
    "Hough lines, and returns a final image with the lane lines overlayed on top of\n",
    "the original image.\n",
    "\n",
    "`img` is the output of the hough_lines(), An image with lines drawn on it.\n",
    "Should be a blank image (all black) with lines drawn on it.\n",
    "\n",
    "`initial_img` should be the image before any processing.\n",
    "\n",
    "The result image is computed as follows:\n",
    "\n",
    "initial_img * α + img * β + γ\n",
    "NOTE: initial_img and img must be the same shape!\n",
    "\"\"\"\n",
    "def weighted_img(img, initial_img, α=0.8, β=1., γ=0.):\n",
    "    return cv2.addWeighted(initial_img, α, img, β, γ)\n"
   ]
  },
  {
   "cell_type": "markdown",
   "metadata": {},
   "source": [
    "## Build a Lane Finding Pipeline\n",
    "\n"
   ]
  },
  {
   "cell_type": "code",
   "execution_count": null,
   "metadata": {},
   "outputs": [],
   "source": [
    "# TODO: Build your pipeline that will draw lane lines on the test_images\n",
    "# then save them to the test_images_output directory.\n",
    "\n",
    "def run_image_processing(image, color=[255, 0, 0], thickness=5):\n",
    "    \n",
    "    # Detect the white and yellow colors (corresponding to\n",
    "    # lane marker colors) in the picture\n",
    "    white_yellow_image = filter_white_and_yellow(image)\n",
    "    \n",
    "    # Convert image to grayscale\n",
    "    grayscale_image = grayscale(white_yellow_image)\n",
    "\n",
    "    # Applying Gaussian blur\n",
    "    kernel_size = 3\n",
    "    blur_image = gaussian_blur(grayscale_image, kernel_size)\n",
    "    \n",
    "    # Applying otzu thresholding\n",
    "    # Reference: https://docs.opencv.org/3.4/d7/d4d/tutorial_py_thresholding.html\n",
    "    ret, threshold = cv2.threshold(grayscale_image, 0, 255, cv2.THRESH_BINARY+cv2.THRESH_OTSU)\n",
    "\n",
    "    # Canny Edge Detection\n",
    "    low_threshold = 50\n",
    "    high_threshold = 150\n",
    "    canny_image = canny(threshold, low_threshold, high_threshold)\n",
    "\n",
    "    # Restricting to region of interest\n",
    "    imshape = image.shape\n",
    "    video_width = imshape[1]\n",
    "    video_height = imshape[0]\n",
    "    ymin = video_height * 0.60\n",
    "    ymax = video_height\n",
    "\n",
    "    top_left = (video_width * 0.48, ymin)\n",
    "    top_right = (video_width * 0.52, ymin)\n",
    "    bottom_left = (0, ymax)\n",
    "    bottom_right = (video_width, ymax)\n",
    "    vertices = np.array([[bottom_left, top_left, top_right, bottom_right]], dtype=np.int32)\n",
    "    masked_image = region_of_interest(canny_image, vertices)\n",
    "\n",
    "    # Hough Transform\n",
    "    rho = 2 # distance resolution in pixels of the Hough grid\n",
    "    theta = np.pi/180 # angular resolution in radians of the Hough grid\n",
    "    threshold = 10   # minimum number of votes (intersections in Hough grid cell)\n",
    "    min_line_length = 10 #minimum number of pixels making up a line\n",
    "    max_line_gap = 10    # maximum gap in pixels between connectable line segments\n",
    "    hough_transformed_image = hough_lines(masked_image, rho, theta, threshold, min_line_length, max_line_gap, video_width, ymin, ymax, color, thickness)\n",
    "\n",
    "    # Detected lane markers overridden on top of original image\n",
    "    # final_image = weighted_img(hough_transformed_image, image)\n",
    "    final_image = weighted_img(hough_transformed_image, image)\n",
    "    \n",
    "    # Added only for test\n",
    "    # three_channel_masked_image = np.stack((masked_image,)*3, -1)\n",
    "    # final_image = weighted_img(hough_transformed_image, three_channel_masked_image) \n",
    "    \n",
    "    # Return processed image\n",
    "    return final_image\n"
   ]
  },
  {
   "cell_type": "markdown",
   "metadata": {},
   "source": [
    "## Test Images\n",
    "\n",
    "Build your pipeline to work on the images in the directory \"test_images\"  \n",
    "**You should make sure your pipeline works well on these images before you try the videos.**"
   ]
  },
  {
   "cell_type": "markdown",
   "metadata": {},
   "source": [
    "Build the pipeline and run your solution on all test_images. Make copies into the `test_images_output` directory, and you can use the images in your writeup report.\n",
    "\n",
    "Try tuning the various parameters, especially the low and high Canny thresholds as well as the Hough lines parameters."
   ]
  },
  {
   "cell_type": "code",
   "execution_count": null,
   "metadata": {
    "scrolled": true
   },
   "outputs": [],
   "source": [
    "import os\n",
    "test_images = os.listdir(\"test_images/\")\n",
    "\n",
    "for file_name in test_images:\n",
    "    file_path = 'test_images/' + file_name\n",
    "    input_image = mpimg.imread(file_path)\n",
    "    processed_image = run_image_processing(input_image)\n",
    "\n",
    "    plt.figure()\n",
    "    plt.imshow(processed_image)"
   ]
  },
  {
   "cell_type": "markdown",
   "metadata": {},
   "source": [
    "## Test on Videos\n",
    "\n",
    "You know what's cooler than drawing lanes over images? Drawing lanes over video!\n",
    "\n",
    "We can test our solution on two provided videos:\n",
    "\n",
    "`solidWhiteRight.mp4`\n",
    "\n",
    "`solidYellowLeft.mp4`\n",
    "\n",
    "**Note: if you get an import error when you run the next cell, try changing your kernel (select the Kernel menu above --> Change Kernel). Still have problems? Try relaunching Jupyter Notebook from the terminal prompt. Also, consult the forums for more troubleshooting tips.**\n",
    "\n",
    "**If you get an error that looks like this:**\n",
    "```\n",
    "NeedDownloadError: Need ffmpeg exe. \n",
    "You can download it by calling: \n",
    "imageio.plugins.ffmpeg.download()\n",
    "```\n",
    "**Follow the instructions in the error message and check out [this forum post](https://discussions.udacity.com/t/project-error-of-test-on-videos/274082) for more troubleshooting tips across operating systems.**"
   ]
  },
  {
   "cell_type": "code",
   "execution_count": null,
   "metadata": {},
   "outputs": [],
   "source": [
    "# Import everything needed to edit/save/watch video clips\n",
    "from moviepy.editor import VideoFileClip\n",
    "from IPython.display import HTML"
   ]
  },
  {
   "cell_type": "code",
   "execution_count": null,
   "metadata": {},
   "outputs": [],
   "source": [
    "def process_image(image):\n",
    "    # NOTE: The output you return should be a color image (3 channel) for processing video below\n",
    "    # TODO: put your pipeline here,\n",
    "    # you should return the final output (image where lines are drawn on lanes)\n",
    "    \n",
    "    color = (255, 0, 0)\n",
    "    thickness = 12\n",
    "    return run_image_processing(image, color, thickness)"
   ]
  },
  {
   "cell_type": "markdown",
   "metadata": {},
   "source": [
    "Let's try the one with the solid white lane on the right first ..."
   ]
  },
  {
   "cell_type": "code",
   "execution_count": null,
   "metadata": {},
   "outputs": [],
   "source": [
    "white_output = 'test_videos_output/solidWhiteRight.mp4'\n",
    "## To speed up the testing process you may want to try your pipeline on a shorter subclip of the video\n",
    "## To do so add .subclip(start_second,end_second) to the end of the line below\n",
    "## Where start_second and end_second are integer values representing the start and end of the subclip\n",
    "## You may also uncomment the following line for a subclip of the first 5 seconds\n",
    "##clip1 = VideoFileClip(\"test_videos/solidWhiteRight.mp4\").subclip(0,5)\n",
    "clip1 = VideoFileClip(\"test_videos/solidWhiteRight.mp4\")\n",
    "white_clip = clip1.fl_image(process_image) #NOTE: this function expects color images!!\n",
    "%time white_clip.write_videofile(white_output, audio=False)"
   ]
  },
  {
   "cell_type": "markdown",
   "metadata": {},
   "source": [
    "Play the video inline, or if you prefer find the video in your filesystem (should be in the same directory) and play it in your video player of choice."
   ]
  },
  {
   "cell_type": "code",
   "execution_count": null,
   "metadata": {},
   "outputs": [],
   "source": [
    "HTML(\"\"\"\n",
    "<video width=\"960\" height=\"540\" controls>\n",
    "  <source src=\"{0}\">\n",
    "</video>\n",
    "\"\"\".format(white_output))"
   ]
  },
  {
   "cell_type": "markdown",
   "metadata": {},
   "source": [
    "## Improve the draw_lines() function\n",
    "\n",
    "**At this point, if you were successful with making the pipeline and tuning parameters, you probably have the Hough line segments drawn onto the road, but what about identifying the full extent of the lane and marking it clearly as in the example video (P1_example.mp4)?  Think about defining a line to run the full length of the visible lane based on the line segments you identified with the Hough Transform. As mentioned previously, try to average and/or extrapolate the line segments you've detected to map out the full extent of the lane lines. You can see an example of the result you're going for in the video \"P1_example.mp4\".**\n",
    "\n",
    "**Go back and modify your draw_lines function accordingly and try re-running your pipeline. The new output should draw a single, solid line over the left lane line and a single, solid line over the right lane line. The lines should start from the bottom of the image and extend out to the top of the region of interest.**"
   ]
  },
  {
   "cell_type": "markdown",
   "metadata": {},
   "source": [
    "Now for the one with the solid yellow lane on the left. This one's more tricky!"
   ]
  },
  {
   "cell_type": "code",
   "execution_count": null,
   "metadata": {},
   "outputs": [],
   "source": [
    "yellow_output = 'test_videos_output/solidYellowLeft.mp4'\n",
    "## To speed up the testing process you may want to try your pipeline on a shorter subclip of the video\n",
    "## To do so add .subclip(start_second,end_second) to the end of the line below\n",
    "## Where start_second and end_second are integer values representing the start and end of the subclip\n",
    "## You may also uncomment the following line for a subclip of the first 5 seconds\n",
    "##clip2 = VideoFileClip('test_videos/solidYellowLeft.mp4').subclip(0,5)\n",
    "clip2 = VideoFileClip('test_videos/solidYellowLeft.mp4')\n",
    "yellow_clip = clip2.fl_image(process_image)\n",
    "%time yellow_clip.write_videofile(yellow_output, audio=False)"
   ]
  },
  {
   "cell_type": "code",
   "execution_count": null,
   "metadata": {},
   "outputs": [],
   "source": [
    "HTML(\"\"\"\n",
    "<video width=\"960\" height=\"540\" controls>\n",
    "  <source src=\"{0}\">\n",
    "</video>\n",
    "\"\"\".format(yellow_output))"
   ]
  },
  {
   "cell_type": "markdown",
   "metadata": {},
   "source": [
    "## Writeup and Submission\n",
    "\n",
    "If you're satisfied with your video outputs, it's time to make the report writeup in a pdf or markdown file. Once you have this Ipython notebook ready along with the writeup, it's time to submit for review! Here is a [link](https://github.com/udacity/CarND-LaneLines-P1/blob/master/writeup_template.md) to the writeup template file.\n"
   ]
  },
  {
   "cell_type": "markdown",
   "metadata": {
    "collapsed": true
   },
   "source": [
    "## Optional Challenge\n",
    "\n",
    "Try your lane finding pipeline on the video below.  Does it still work?  Can you figure out a way to make it more robust?  If you're up for the challenge, modify your pipeline so it works with this video and submit it along with the rest of your project!"
   ]
  },
  {
   "cell_type": "code",
   "execution_count": null,
   "metadata": {
    "scrolled": true
   },
   "outputs": [],
   "source": [
    "challenge_output = 'test_videos_output/challenge.mp4'\n",
    "## To speed up the testing process you may want to try your pipeline on a shorter subclip of the video\n",
    "## To do so add .subclip(start_second,end_second) to the end of the line below\n",
    "## Where start_second and end_second are integer values representing the start and end of the subclip\n",
    "## You may also uncomment the following line for a subclip of the first 5 seconds\n",
    "# clip3 = VideoFileClip('test_videos/challenge.mp4').subclip(0,5)\n",
    "clip3 = VideoFileClip('test_videos/challenge.mp4')\n",
    "challenge_clip = clip3.fl_image(process_image)\n",
    "%time challenge_clip.write_videofile(challenge_output, audio=False)"
   ]
  },
  {
   "cell_type": "code",
   "execution_count": null,
   "metadata": {
    "scrolled": true
   },
   "outputs": [],
   "source": [
    "HTML(\"\"\"\n",
    "<video width=\"960\" height=\"540\" controls>\n",
    "  <source src=\"{0}\">\n",
    "</video>\n",
    "\"\"\".format(challenge_output))"
   ]
  },
  {
   "cell_type": "code",
   "execution_count": null,
   "metadata": {},
   "outputs": [],
   "source": []
  }
 ],
 "metadata": {
  "anaconda-cloud": {},
  "kernelspec": {
   "display_name": "Python 3",
   "language": "python",
   "name": "python3"
  },
  "language_info": {
   "codemirror_mode": {
    "name": "ipython",
    "version": 3
   },
   "file_extension": ".py",
   "mimetype": "text/x-python",
   "name": "python",
   "nbconvert_exporter": "python",
   "pygments_lexer": "ipython3",
   "version": "3.7.0"
  }
 },
 "nbformat": 4,
 "nbformat_minor": 1
}
