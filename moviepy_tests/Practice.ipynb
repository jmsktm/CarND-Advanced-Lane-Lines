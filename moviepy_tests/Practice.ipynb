{
 "cells": [
  {
   "cell_type": "code",
   "execution_count": 1,
   "metadata": {},
   "outputs": [],
   "source": [
    "from moviepy.editor import *\n",
    "import multiprocessing\n",
    "import random\n",
    "import os"
   ]
  },
  {
   "cell_type": "code",
   "execution_count": 6,
   "metadata": {},
   "outputs": [
    {
     "name": "stdout",
     "output_type": "stream",
     "text": [
      "main pid: 56968\n",
      "processing - output-1.mp4. (PID: 81788)\n",
      "[MoviePy] >>>> Building video output-1.mp4\n",
      "[MoviePy] Writing video output-1.mp4\n"
     ]
    },
    {
     "name": "stderr",
     "output_type": "stream",
     "text": [
      "\r",
      "  0%|          | 0/26 [00:00<?, ?it/s]"
     ]
    },
    {
     "name": "stdout",
     "output_type": "stream",
     "text": [
      "main pid: 56968\n"
     ]
    },
    {
     "name": "stderr",
     "output_type": "stream",
     "text": [
      "\r",
      " 46%|████▌     | 12/26 [00:00<00:00, 115.59it/s]"
     ]
    },
    {
     "name": "stdout",
     "output_type": "stream",
     "text": [
      "processing - output-2.mp4. (PID: 81859)\n",
      "[MoviePy] >>>> Building video output-2.mp4\n",
      "[MoviePy] Writing video output-2.mp4\n"
     ]
    },
    {
     "name": "stderr",
     "output_type": "stream",
     "text": [
      "\r",
      "  0%|          | 0/26 [00:00<?, ?it/s]"
     ]
    },
    {
     "name": "stdout",
     "output_type": "stream",
     "text": [
      "main pid: 56968\n"
     ]
    },
    {
     "name": "stderr",
     "output_type": "stream",
     "text": [
      " 31%|███       | 8/26 [00:00<00:00, 76.56it/s]] "
     ]
    },
    {
     "name": "stdout",
     "output_type": "stream",
     "text": [
      "processing - output-3.mp4. (PID: 81935)\n",
      "[MoviePy] >>>> Building video output-3.mp4\n",
      "[MoviePy] Writing video output-3.mp4\n"
     ]
    },
    {
     "name": "stderr",
     "output_type": "stream",
     "text": [
      " 96%|█████████▌| 25/26 [00:00<00:00, 90.67it/s]\n",
      "  0%|          | 0/26 [00:00<?, ?it/s]"
     ]
    },
    {
     "name": "stdout",
     "output_type": "stream",
     "text": [
      "main pid: 56968\n"
     ]
    },
    {
     "name": "stderr",
     "output_type": "stream",
     "text": [
      " 77%|███████▋  | 20/26 [00:00<00:00, 56.75it/s]]"
     ]
    },
    {
     "name": "stdout",
     "output_type": "stream",
     "text": [
      "processing - output-4.mp4. (PID: 82015)\n",
      "[MoviePy] >>>> Building video output-4.mp4\n",
      "[MoviePy] Writing video output-4.mp4\n"
     ]
    },
    {
     "name": "stderr",
     "output_type": "stream",
     "text": [
      " 96%|█████████▌| 25/26 [00:00<00:00, 61.30it/s] \n",
      " 96%|█████████▌| 25/26 [00:00<00:00, 74.34it/s]\n",
      " 27%|██▋       | 7/26 [00:00<00:00, 65.42it/s]"
     ]
    },
    {
     "name": "stdout",
     "output_type": "stream",
     "text": [
      "main pid: 56968\n"
     ]
    },
    {
     "name": "stderr",
     "output_type": "stream",
     "text": [
      "\r",
      " 65%|██████▌   | 17/26 [00:00<00:00, 72.09it/s]"
     ]
    },
    {
     "name": "stdout",
     "output_type": "stream",
     "text": [
      "processing - output-5.mp4. (PID: 82101)\n",
      "[MoviePy] >>>> Building video output-5.mp4\n",
      "[MoviePy] Writing video output-5.mp4\n"
     ]
    },
    {
     "name": "stderr",
     "output_type": "stream",
     "text": [
      "\r",
      "  0%|          | 0/26 [00:00<?, ?it/s]"
     ]
    },
    {
     "name": "stdout",
     "output_type": "stream",
     "text": [
      "[MoviePy] Done.\n",
      "[MoviePy] >>>> Video ready: output-1.mp4 \n",
      "\n",
      "CPU times: user 62.5 ms, sys: 102 ms, total: 165 ms\n",
      "Wall time: 814 ms\n"
     ]
    },
    {
     "name": "stderr",
     "output_type": "stream",
     "text": [
      " 96%|█████████▌| 25/26 [00:00<00:00, 69.88it/s]\n",
      " 19%|█▉        | 5/26 [00:00<00:00, 44.57it/s]"
     ]
    },
    {
     "name": "stdout",
     "output_type": "stream",
     "text": [
      "main pid: 56968\n",
      "processing - output-6.mp4. (PID: 82188)\n",
      "[MoviePy] >>>> Building video output-6.mp4\n",
      "[MoviePy] Writing video output-6.mp4\n"
     ]
    },
    {
     "name": "stderr",
     "output_type": "stream",
     "text": [
      " 19%|█▉        | 5/26 [00:00<00:00, 46.44it/s]]"
     ]
    },
    {
     "name": "stdout",
     "output_type": "stream",
     "text": [
      "[MoviePy] Done.\n",
      "[MoviePy] >>>> Video ready: output-2.mp4 \n",
      "\n",
      "CPU times: user 53.1 ms, sys: 156 ms, total: 209 ms\n",
      "Wall time: 1.04 s\n",
      "main pid: 56968\n"
     ]
    },
    {
     "name": "stderr",
     "output_type": "stream",
     "text": [
      " 81%|████████  | 21/26 [00:00<00:00, 46.97it/s]"
     ]
    },
    {
     "name": "stdout",
     "output_type": "stream",
     "text": [
      "[MoviePy] Done.\n",
      "[MoviePy] >>>> Video ready: output-3.mp4 \n",
      "\n",
      "CPU times: user 67.3 ms, sys: 137 ms, total: 204 ms\n",
      "Wall time: 990 ms\n",
      "processing - output-7.mp4. (PID: 82284)\n"
     ]
    },
    {
     "name": "stderr",
     "output_type": "stream",
     "text": [
      "\r",
      " 96%|█████████▌| 25/26 [00:00<00:00, 47.67it/s]"
     ]
    },
    {
     "name": "stdout",
     "output_type": "stream",
     "text": [
      "[MoviePy] >>>> Building video output-7.mp4\n"
     ]
    },
    {
     "name": "stderr",
     "output_type": "stream",
     "text": [
      "\n"
     ]
    },
    {
     "name": "stdout",
     "output_type": "stream",
     "text": [
      "[MoviePy] Writing video output-7.mp4\n"
     ]
    },
    {
     "name": "stderr",
     "output_type": "stream",
     "text": [
      " 27%|██▋       | 7/26 [00:00<00:00, 65.54it/s]]"
     ]
    },
    {
     "name": "stdout",
     "output_type": "stream",
     "text": [
      "[MoviePy] Done.\n",
      "[MoviePy] >>>> Video ready: output-4.mp4 \n",
      "\n",
      "CPU times: user 83.1 ms, sys: 141 ms, total: 224 ms\n",
      "Wall time: 960 ms\n"
     ]
    },
    {
     "name": "stderr",
     "output_type": "stream",
     "text": [
      " 96%|█████████▌| 25/26 [00:00<00:00, 56.17it/s]\n"
     ]
    },
    {
     "name": "stdout",
     "output_type": "stream",
     "text": [
      "main pid: 56968\n"
     ]
    },
    {
     "name": "stderr",
     "output_type": "stream",
     "text": [
      "\r",
      " 62%|██████▏   | 16/26 [00:00<00:00, 69.27it/s]"
     ]
    },
    {
     "name": "stdout",
     "output_type": "stream",
     "text": [
      "processing - output-8.mp4. (PID: 82378)\n",
      "[MoviePy] >>>> Building video output-8.mp4\n",
      "[MoviePy] Writing video output-8.mp4\n"
     ]
    },
    {
     "name": "stderr",
     "output_type": "stream",
     "text": [
      " 96%|█████████▌| 25/26 [00:00<00:00, 65.42it/s]\n",
      " 19%|█▉        | 5/26 [00:00<00:00, 46.23it/s]"
     ]
    },
    {
     "name": "stdout",
     "output_type": "stream",
     "text": [
      "main pid: 56968\n"
     ]
    },
    {
     "name": "stderr",
     "output_type": "stream",
     "text": [
      "\r",
      " 50%|█████     | 13/26 [00:00<00:00, 52.17it/s]"
     ]
    },
    {
     "name": "stdout",
     "output_type": "stream",
     "text": [
      "[MoviePy] Done.\n",
      "[MoviePy] >>>> Video ready: output-5.mp4 \n",
      "\n",
      "CPU times: user 116 ms, sys: 168 ms, total: 283 ms\n",
      "Wall time: 1.12 s\n",
      "processing - output-9.mp4. (PID: 82466)\n",
      "[MoviePy] >>>> Building video output-9.mp4\n",
      "[MoviePy] Writing video output-9.mp4\n"
     ]
    },
    {
     "name": "stderr",
     "output_type": "stream",
     "text": [
      " 77%|███████▋  | 20/26 [00:00<00:00, 55.48it/s]"
     ]
    },
    {
     "name": "stdout",
     "output_type": "stream",
     "text": [
      "[MoviePy] Done.\n",
      "[MoviePy] >>>> Video ready: output-6.mp4 \n",
      "\n",
      "CPU times: user 59.1 ms, sys: 189 ms, total: 248 ms\n",
      "Wall time: 1.05 s\n"
     ]
    },
    {
     "name": "stderr",
     "output_type": "stream",
     "text": [
      " 96%|█████████▌| 25/26 [00:00<00:00, 60.12it/s]\n",
      " 23%|██▎       | 6/26 [00:00<00:00, 52.12it/s]"
     ]
    },
    {
     "name": "stdout",
     "output_type": "stream",
     "text": [
      "main pid: 56968\n",
      "processing - output-10.mp4. (PID: 82552)\n"
     ]
    },
    {
     "name": "stderr",
     "output_type": "stream",
     "text": [
      "\r",
      " 54%|█████▍    | 14/26 [00:00<00:00, 58.13it/s]"
     ]
    },
    {
     "name": "stdout",
     "output_type": "stream",
     "text": [
      "[MoviePy] >>>> Building video output-10.mp4\n",
      "[MoviePy] Writing video output-10.mp4\n"
     ]
    },
    {
     "name": "stderr",
     "output_type": "stream",
     "text": [
      "\r",
      "  0%|          | 0/26 [00:00<?, ?it/s]"
     ]
    },
    {
     "name": "stdout",
     "output_type": "stream",
     "text": [
      "[MoviePy] Done.\n",
      "[MoviePy] >>>> Video ready: output-7.mp4 \n",
      "\n",
      "CPU times: user 70.5 ms, sys: 150 ms, total: 221 ms\n",
      "Wall time: 910 ms\n"
     ]
    },
    {
     "name": "stderr",
     "output_type": "stream",
     "text": [
      " 96%|█████████▌| 25/26 [00:00<00:00, 61.05it/s]"
     ]
    },
    {
     "name": "stdout",
     "output_type": "stream",
     "text": [
      "main pid: 56968\n"
     ]
    },
    {
     "name": "stderr",
     "output_type": "stream",
     "text": [
      "\n",
      " 58%|█████▊    | 15/26 [00:00<00:00, 65.79it/s]"
     ]
    },
    {
     "name": "stdout",
     "output_type": "stream",
     "text": [
      "processing - output-11.mp4. (PID: 82640)\n",
      "[MoviePy] >>>> Building video output-11.mp4\n",
      "[MoviePy] Writing video output-11.mp4\n"
     ]
    },
    {
     "name": "stderr",
     "output_type": "stream",
     "text": [
      "\r",
      "  0%|          | 0/26 [00:00<?, ?it/s]"
     ]
    },
    {
     "name": "stdout",
     "output_type": "stream",
     "text": [
      "[MoviePy] Done.\n",
      "[MoviePy] >>>> Video ready: output-8.mp4 \n",
      "\n",
      "CPU times: user 93.8 ms, sys: 145 ms, total: 238 ms\n",
      "Wall time: 908 ms\n"
     ]
    },
    {
     "name": "stderr",
     "output_type": "stream",
     "text": [
      " 96%|█████████▌| 25/26 [00:00<00:00, 69.93it/s]\n"
     ]
    },
    {
     "name": "stdout",
     "output_type": "stream",
     "text": [
      "main pid: 56968\n"
     ]
    },
    {
     "name": "stderr",
     "output_type": "stream",
     "text": [
      "\r",
      " 69%|██████▉   | 18/26 [00:00<00:00, 79.92it/s]"
     ]
    },
    {
     "name": "stdout",
     "output_type": "stream",
     "text": [
      "processing - output-12.mp4. (PID: 82730)\n",
      "[MoviePy] >>>> Building video output-12.mp4\n",
      "[MoviePy] Writing video output-12.mp4\n"
     ]
    },
    {
     "name": "stderr",
     "output_type": "stream",
     "text": [
      " 96%|█████████▌| 25/26 [00:00<00:00, 73.24it/s]\n",
      " 23%|██▎       | 6/26 [00:00<00:00, 55.71it/s]"
     ]
    },
    {
     "name": "stdout",
     "output_type": "stream",
     "text": [
      "main pid: 56968\n",
      "[MoviePy] Done.\n",
      "[MoviePy] >>>> Video ready: output-9.mp4 \n",
      "\n",
      "CPU times: user 78.1 ms, sys: 148 ms, total: 226 ms\n"
     ]
    },
    {
     "name": "stderr",
     "output_type": "stream",
     "text": [
      "\r",
      " 54%|█████▍    | 14/26 [00:00<00:00, 60.73it/s]"
     ]
    },
    {
     "name": "stdout",
     "output_type": "stream",
     "text": [
      "Wall time: 975 ms\n",
      "processing - output-13.mp4. (PID: 82816)\n",
      "[MoviePy] >>>> Building video output-13.mp4\n",
      "[MoviePy] Writing video output-13.mp4\n"
     ]
    },
    {
     "name": "stderr",
     "output_type": "stream",
     "text": [
      " 96%|█████████▌| 25/26 [00:00<00:00, 64.30it/s]\n",
      " 23%|██▎       | 6/26 [00:00<00:00, 53.55it/s]"
     ]
    },
    {
     "name": "stdout",
     "output_type": "stream",
     "text": [
      "main pid: 56968\n",
      "[MoviePy] Done.\n",
      "[MoviePy] >>>> Video ready: output-10.mp4 \n",
      "\n",
      "CPU times: user 86.1 ms, sys: 135 ms, total: 221 ms\n",
      "processing - output-14.mp4. (PID: 82897)\n",
      "[MoviePy] >>>> Building video output-14.mp4\n",
      "[MoviePy] Writing video output-14.mp4\n",
      "Wall time: 1e+03 ms\n"
     ]
    },
    {
     "name": "stderr",
     "output_type": "stream",
     "text": [
      " 27%|██▋       | 7/26 [00:00<00:00, 63.33it/s]]"
     ]
    },
    {
     "name": "stdout",
     "output_type": "stream",
     "text": [
      "[MoviePy] Done.\n",
      "[MoviePy] >>>> Video ready: output-11.mp4 \n",
      "\n",
      "CPU times: user 45.9 ms, sys: 151 ms, total: 197 ms\n",
      "Wall time: 946 ms\n",
      "main pid: 56968\n"
     ]
    },
    {
     "name": "stderr",
     "output_type": "stream",
     "text": [
      " 96%|█████████▌| 25/26 [00:00<00:00, 57.03it/s]\n",
      " 46%|████▌     | 12/26 [00:00<00:00, 57.08it/s]"
     ]
    },
    {
     "name": "stdout",
     "output_type": "stream",
     "text": [
      "processing - output-15.mp4. (PID: 83036)\n",
      "[MoviePy] >>>> Building video output-15.mp4\n",
      "[MoviePy] Writing video output-15.mp4\n"
     ]
    },
    {
     "name": "stderr",
     "output_type": "stream",
     "text": [
      " 96%|█████████▌| 25/26 [00:00<00:00, 60.24it/s]\n"
     ]
    },
    {
     "name": "stdout",
     "output_type": "stream",
     "text": [
      "main pid: 56968\n",
      "processing - output-16.mp4. (PID: 83114)\n",
      "[MoviePy] Done.\n",
      "[MoviePy] >>>> Building video output-16.mp4\n",
      "[MoviePy] >>>> Video ready: output-12.mp4 \n",
      "\n",
      "CPU times: user 85.1 ms, sys: 136 ms, total: 221 ms\n",
      "Wall time: 1.01 s\n",
      "[MoviePy] Writing video output-16.mp4\n"
     ]
    },
    {
     "name": "stderr",
     "output_type": "stream",
     "text": [
      " 96%|█████████▌| 25/26 [00:00<00:00, 67.25it/s]"
     ]
    },
    {
     "name": "stdout",
     "output_type": "stream",
     "text": [
      "main pid: 56968\n"
     ]
    },
    {
     "name": "stderr",
     "output_type": "stream",
     "text": [
      "\n",
      " 50%|█████     | 13/26 [00:00<00:00, 58.76it/s]"
     ]
    },
    {
     "name": "stdout",
     "output_type": "stream",
     "text": [
      "processing - output-17.mp4. (PID: 83204)\n",
      "[MoviePy] >>>> Building video output-17.mp4\n",
      "[MoviePy] Writing video output-17.mp4\n"
     ]
    },
    {
     "name": "stderr",
     "output_type": "stream",
     "text": [
      "\r",
      "  0%|          | 0/26 [00:00<?, ?it/s]"
     ]
    },
    {
     "name": "stdout",
     "output_type": "stream",
     "text": [
      "[MoviePy] Done.\n",
      "[MoviePy] >>>> Video ready: output-13.mp4 \n",
      "\n",
      "CPU times: user 85.8 ms, sys: 166 ms, total: 252 ms\n",
      "Wall time: 1.09 s\n"
     ]
    },
    {
     "name": "stderr",
     "output_type": "stream",
     "text": [
      " 23%|██▎       | 6/26 [00:00<00:00, 53.67it/s]]"
     ]
    },
    {
     "name": "stdout",
     "output_type": "stream",
     "text": [
      "main pid: 56968\n"
     ]
    },
    {
     "name": "stderr",
     "output_type": "stream",
     "text": [
      " 96%|█████████▌| 25/26 [00:00<00:00, 58.84it/s]\n",
      " 54%|█████▍    | 14/26 [00:00<00:00, 58.78it/s]"
     ]
    },
    {
     "name": "stdout",
     "output_type": "stream",
     "text": [
      "processing - output-18.mp4. (PID: 83290)\n",
      "[MoviePy] >>>> Building video output-18.mp4\n",
      "[MoviePy] Writing video output-18.mp4\n"
     ]
    },
    {
     "name": "stderr",
     "output_type": "stream",
     "text": [
      "\r",
      "  0%|          | 0/26 [00:00<?, ?it/s]"
     ]
    },
    {
     "name": "stdout",
     "output_type": "stream",
     "text": [
      "[MoviePy] Done.\n",
      "[MoviePy] >>>> Video ready: output-14.mp4 \n",
      "\n",
      "CPU times: user 74.8 ms, sys: 172 ms, total: 247 ms\n",
      "Wall time: 1.09 s\n"
     ]
    },
    {
     "name": "stderr",
     "output_type": "stream",
     "text": [
      " 23%|██▎       | 6/26 [00:00<00:00, 58.68it/s]]"
     ]
    },
    {
     "name": "stdout",
     "output_type": "stream",
     "text": [
      "main pid: 56968\n"
     ]
    },
    {
     "name": "stderr",
     "output_type": "stream",
     "text": [
      " 96%|█████████▌| 25/26 [00:00<00:00, 53.29it/s]\n"
     ]
    },
    {
     "name": "stdout",
     "output_type": "stream",
     "text": [
      "processing - output-19.mp4. (PID: 83378)\n",
      "[MoviePy] >>>> Building video output-19.mp4\n"
     ]
    },
    {
     "name": "stderr",
     "output_type": "stream",
     "text": [
      "\r",
      " 50%|█████     | 13/26 [00:00<00:00, 60.38it/s]"
     ]
    },
    {
     "name": "stdout",
     "output_type": "stream",
     "text": [
      "[MoviePy] Writing video output-19.mp4\n"
     ]
    },
    {
     "name": "stderr",
     "output_type": "stream",
     "text": [
      "\r",
      "  0%|          | 0/26 [00:00<?, ?it/s]"
     ]
    },
    {
     "name": "stdout",
     "output_type": "stream",
     "text": [
      "[MoviePy] Done.\n",
      "[MoviePy] >>>> Video ready: output-15.mp4 \n",
      "\n",
      "CPU times: user 67.3 ms, sys: 162 ms, total: 230 ms\n",
      "Wall time: 1.07 s\n"
     ]
    },
    {
     "name": "stderr",
     "output_type": "stream",
     "text": [
      " 23%|██▎       | 6/26 [00:00<00:00, 53.76it/s]]"
     ]
    },
    {
     "name": "stdout",
     "output_type": "stream",
     "text": [
      "main pid: 56968\n",
      "processing - output-20.mp4. (PID: 83462)\n",
      "[MoviePy] >>>> Building video output-20.mp4\n"
     ]
    },
    {
     "name": "stderr",
     "output_type": "stream",
     "text": [
      "\r",
      " 88%|████████▊ | 23/26 [00:00<00:00, 50.37it/s]"
     ]
    },
    {
     "name": "stdout",
     "output_type": "stream",
     "text": [
      "[MoviePy] Writing video output-20.mp4\n"
     ]
    },
    {
     "name": "stderr",
     "output_type": "stream",
     "text": [
      " 96%|█████████▌| 25/26 [00:00<00:00, 55.64it/s]\n",
      " 42%|████▏     | 11/26 [00:00<00:00, 51.67it/s]"
     ]
    },
    {
     "name": "stdout",
     "output_type": "stream",
     "text": [
      "[MoviePy] Done.\n",
      "[MoviePy] >>>> Video ready: output-16.mp4 \n",
      "\n",
      "CPU times: user 103 ms, sys: 146 ms, total: 249 ms\n",
      "Wall time: 1.08 s\n"
     ]
    },
    {
     "name": "stderr",
     "output_type": "stream",
     "text": [
      " 65%|██████▌   | 17/26 [00:00<00:00, 52.32it/s]"
     ]
    },
    {
     "name": "stdout",
     "output_type": "stream",
     "text": [
      "main pid: 56968\n"
     ]
    },
    {
     "name": "stderr",
     "output_type": "stream",
     "text": [
      " 46%|████▌     | 12/26 [00:00<00:00, 49.03it/s]"
     ]
    },
    {
     "name": "stdout",
     "output_type": "stream",
     "text": [
      "processing - output-21.mp4. (PID: 83556)\n",
      "[MoviePy] >>>> Building video output-21.mp4\n",
      "[MoviePy] Writing video output-21.mp4\n"
     ]
    },
    {
     "name": "stderr",
     "output_type": "stream",
     "text": [
      " 96%|█████████▌| 25/26 [00:00<00:00, 53.51it/s]\n",
      "  0%|          | 0/26 [00:00<?, ?it/s]"
     ]
    },
    {
     "name": "stdout",
     "output_type": "stream",
     "text": [
      "[MoviePy] Done.\n",
      "[MoviePy] >>>> Video ready: output-17.mp4 \n",
      "\n",
      "CPU times: user 68.2 ms, sys: 173 ms, total: 241 ms\n",
      "Wall time: 1.08 s\n"
     ]
    },
    {
     "name": "stderr",
     "output_type": "stream",
     "text": [
      " 23%|██▎       | 6/26 [00:00<00:00, 57.32it/s]]"
     ]
    },
    {
     "name": "stdout",
     "output_type": "stream",
     "text": [
      "main pid: 56968\n"
     ]
    },
    {
     "name": "stderr",
     "output_type": "stream",
     "text": [
      " 96%|█████████▌| 25/26 [00:00<00:00, 52.94it/s]\n",
      " 46%|████▌     | 12/26 [00:00<00:00, 57.62it/s]"
     ]
    },
    {
     "name": "stdout",
     "output_type": "stream",
     "text": [
      "processing - output-22.mp4. (PID: 83651)\n",
      "[MoviePy] >>>> Building video output-22.mp4\n",
      "[MoviePy] Writing video output-22.mp4\n"
     ]
    },
    {
     "name": "stderr",
     "output_type": "stream",
     "text": [
      "\r",
      "  0%|          | 0/26 [00:00<?, ?it/s]"
     ]
    },
    {
     "name": "stdout",
     "output_type": "stream",
     "text": [
      "[MoviePy] Done.\n",
      "[MoviePy] >>>> Video ready: output-18.mp4 \n",
      "\n",
      "CPU times: user 87.9 ms, sys: 175 ms, total: 263 ms\n",
      "Wall time: 1.06 s\n"
     ]
    },
    {
     "name": "stderr",
     "output_type": "stream",
     "text": [
      " 23%|██▎       | 6/26 [00:00<00:00, 53.64it/s]]"
     ]
    },
    {
     "name": "stdout",
     "output_type": "stream",
     "text": [
      "main pid: 56968\n"
     ]
    },
    {
     "name": "stderr",
     "output_type": "stream",
     "text": [
      "\r",
      " 88%|████████▊ | 23/26 [00:00<00:00, 49.11it/s]"
     ]
    },
    {
     "name": "stdout",
     "output_type": "stream",
     "text": [
      "processing - output-23.mp4. (PID: 83772)\n",
      "[MoviePy] >>>> Building video output-23.mp4\n",
      "[MoviePy] Writing video output-23.mp4\n"
     ]
    },
    {
     "name": "stderr",
     "output_type": "stream",
     "text": [
      " 96%|█████████▌| 25/26 [00:00<00:00, 51.17it/s]\n",
      " 19%|█▉        | 5/26 [00:00<00:00, 45.38it/s]]"
     ]
    },
    {
     "name": "stdout",
     "output_type": "stream",
     "text": [
      "[MoviePy] Done.\n",
      "[MoviePy] >>>> Video ready: output-19.mp4 \n",
      "\n",
      "CPU times: user 118 ms, sys: 149 ms, total: 267 ms\n",
      "main pid: 56968\n",
      "Wall time: 1.18 s\n"
     ]
    },
    {
     "name": "stderr",
     "output_type": "stream",
     "text": [
      " 96%|█████████▌| 25/26 [00:00<00:00, 52.88it/s]\n",
      " 42%|████▏     | 11/26 [00:00<00:00, 48.30it/s]"
     ]
    },
    {
     "name": "stdout",
     "output_type": "stream",
     "text": [
      "processing - output-24.mp4. (PID: 83875)\n",
      "[MoviePy] >>>> Building video output-24.mp4\n",
      "[MoviePy] Writing video output-24.mp4\n"
     ]
    },
    {
     "name": "stderr",
     "output_type": "stream",
     "text": [
      " 19%|█▉        | 5/26 [00:00<00:00, 43.56it/s]]"
     ]
    },
    {
     "name": "stdout",
     "output_type": "stream",
     "text": [
      "[MoviePy] Done.\n",
      "[MoviePy] >>>> Video ready: output-20.mp4 \n",
      "\n",
      "CPU times: user 97.4 ms, sys: 161 ms, total: 259 ms\n",
      "Wall time: 1.24 s\n",
      "main pid: 56968\n"
     ]
    },
    {
     "name": "stderr",
     "output_type": "stream",
     "text": [
      " 96%|█████████▌| 25/26 [00:00<00:00, 48.49it/s]\n"
     ]
    },
    {
     "name": "stdout",
     "output_type": "stream",
     "text": [
      "processing - output-25.mp4. (PID: 83995)\n",
      "[MoviePy] >>>> Building video output-25.mp4\n",
      "[MoviePy] Writing video output-25.mp4\n"
     ]
    },
    {
     "name": "stderr",
     "output_type": "stream",
     "text": [
      " 19%|█▉        | 5/26 [00:00<00:00, 45.92it/s]]"
     ]
    },
    {
     "name": "stdout",
     "output_type": "stream",
     "text": [
      "main pid: 56968\n"
     ]
    },
    {
     "name": "stderr",
     "output_type": "stream",
     "text": [
      "\r",
      " 88%|████████▊ | 23/26 [00:00<00:00, 51.27it/s]"
     ]
    },
    {
     "name": "stdout",
     "output_type": "stream",
     "text": [
      "[MoviePy] Done.\n"
     ]
    },
    {
     "name": "stderr",
     "output_type": "stream",
     "text": [
      " 96%|█████████▌| 25/26 [00:00<00:00, 51.43it/s]\n"
     ]
    },
    {
     "name": "stdout",
     "output_type": "stream",
     "text": [
      "[MoviePy] >>>> Video ready: output-21.mp4 \n",
      "\n",
      "CPU times: user 71.2 ms, sys: 192 ms, total: 263 ms\n",
      "Wall time: 1.33 s\n"
     ]
    },
    {
     "name": "stderr",
     "output_type": "stream",
     "text": [
      "\r",
      " 42%|████▏     | 11/26 [00:00<00:00, 46.87it/s]"
     ]
    },
    {
     "name": "stdout",
     "output_type": "stream",
     "text": [
      "processing - output-26.mp4. (PID: 84128)\n",
      "[MoviePy] >>>> Building video output-26.mp4\n",
      "[MoviePy] Writing video output-26.mp4\n"
     ]
    },
    {
     "name": "stderr",
     "output_type": "stream",
     "text": [
      " 69%|██████▉   | 18/26 [00:00<00:00, 51.28it/s]"
     ]
    },
    {
     "name": "stdout",
     "output_type": "stream",
     "text": [
      "[MoviePy] Done.\n",
      "[MoviePy] >>>> Video ready: output-22.mp4 \n",
      "\n",
      "CPU times: user 106 ms, sys: 148 ms, total: 254 ms\n",
      "Wall time: 1.21 s\n"
     ]
    },
    {
     "name": "stderr",
     "output_type": "stream",
     "text": [
      "\r",
      " 19%|█▉        | 5/26 [00:00<00:00, 49.52it/s]"
     ]
    },
    {
     "name": "stdout",
     "output_type": "stream",
     "text": [
      "main pid: 56968\n"
     ]
    },
    {
     "name": "stderr",
     "output_type": "stream",
     "text": [
      " 96%|█████████▌| 25/26 [00:00<00:00, 50.43it/s]\n",
      " 42%|████▏     | 11/26 [00:00<00:00, 51.63it/s]"
     ]
    },
    {
     "name": "stdout",
     "output_type": "stream",
     "text": [
      "main pid: 56968\n",
      "processing - output-27.mp4. (PID: 84227)\n",
      "main pid: 56968\n",
      "[MoviePy] >>>> Building video output-27.mp4\n",
      "processing - output-28.mp4. (PID: 84230)\n",
      "[MoviePy] Writing video output-27.mp4\n",
      "main pid: 56968\n",
      "processing - output-29.mp4. (PID: 84267)\n",
      "[MoviePy] >>>> Building video output-28.mp4\n",
      "[MoviePy] >>>> Building video output-29.mp4\n",
      "main pid: 56968\n",
      "processing - output-30.mp4. (PID: 84276)\n",
      "[MoviePy] Writing video output-29.mp4\n",
      "[MoviePy] Writing video output-28.mp4\n",
      "[MoviePy] >>>> Building video output-30.mp4\n",
      "[MoviePy] Writing video output-30.mp4\n"
     ]
    },
    {
     "name": "stderr",
     "output_type": "stream",
     "text": [
      "\r",
      "  0%|          | 0/26 [00:00<?, ?it/s]"
     ]
    },
    {
     "name": "stdout",
     "output_type": "stream",
     "text": [
      "main pid: 56968\n",
      "processing - output-31.mp4. (PID: 84286)\n",
      "main pid: 56968\n",
      "processing - output-32.mp4. (PID: 84330)\n",
      "[MoviePy] >>>> Building video output-31.mp4\n"
     ]
    },
    {
     "name": "stderr",
     "output_type": "stream",
     "text": [
      "\r",
      "  0%|          | 0/26 [00:00<?, ?it/s]"
     ]
    },
    {
     "name": "stdout",
     "output_type": "stream",
     "text": [
      "[MoviePy] Writing video output-31.mp4\n",
      "main pid: 56968\n"
     ]
    },
    {
     "name": "stderr",
     "output_type": "stream",
     "text": [
      "\r",
      "  0%|          | 0/26 [00:00<?, ?it/s]"
     ]
    },
    {
     "name": "stdout",
     "output_type": "stream",
     "text": [
      "processing - output-33.mp4. (PID: 84365)\n"
     ]
    },
    {
     "name": "stderr",
     "output_type": "stream",
     "text": [
      "\r",
      "  0%|          | 0/26 [00:00<?, ?it/s]"
     ]
    },
    {
     "name": "stdout",
     "output_type": "stream",
     "text": [
      "[MoviePy] >>>> Building video output-33.mp4\n",
      "main pid: 56968\n",
      "[MoviePy] >>>> Building video output-32.mp4\n",
      "[MoviePy] Writing video output-33.mp4\n",
      "[MoviePy] Writing video output-32.mp4\n"
     ]
    },
    {
     "name": "stderr",
     "output_type": "stream",
     "text": [
      "\r",
      " 81%|████████  | 21/26 [00:00<00:00, 59.50it/s]"
     ]
    },
    {
     "name": "stdout",
     "output_type": "stream",
     "text": [
      "main pid: 56968\n",
      "processing - output-34.mp4. (PID: 84388)\n",
      "[MoviePy] Done.\n",
      "[MoviePy] >>>> Video ready: output-23.mp4 \n",
      "\n",
      "[MoviePy] >>>> Building video output-34.mp4\n",
      "processing - output-35.mp4. (PID: 84456)\n"
     ]
    },
    {
     "name": "stderr",
     "output_type": "stream",
     "text": [
      "\r",
      "  0%|          | 0/26 [00:00<?, ?it/s]"
     ]
    },
    {
     "name": "stdout",
     "output_type": "stream",
     "text": [
      "[MoviePy] Writing video output-34.mp4\n",
      "main pid: 56968\n",
      "CPU times: user 120 ms, sys: 157 ms, total: 277 ms\n",
      "processing - output-36.mp4. (PID: 84554)\n",
      "Wall time: 1.28 s\n",
      "[MoviePy] >>>> Building video output-35.mp4\n"
     ]
    },
    {
     "name": "stderr",
     "output_type": "stream",
     "text": [
      "\r",
      "  0%|          | 0/26 [00:00<?, ?it/s]"
     ]
    },
    {
     "name": "stdout",
     "output_type": "stream",
     "text": [
      "[MoviePy] Writing video output-35.mp4\n",
      "[MoviePy] >>>> Building video output-36.mp4\n",
      "main pid: 56968\n"
     ]
    },
    {
     "name": "stderr",
     "output_type": "stream",
     "text": [
      " 96%|█████████▌| 25/26 [00:00<00:00, 62.67it/s]"
     ]
    },
    {
     "name": "stdout",
     "output_type": "stream",
     "text": [
      "main pid: 56968\n"
     ]
    },
    {
     "name": "stderr",
     "output_type": "stream",
     "text": [
      "\n"
     ]
    },
    {
     "name": "stdout",
     "output_type": "stream",
     "text": [
      "[MoviePy] Writing video output-36.mp4\n",
      "processing - output-37.mp4. (PID: 84596)\n",
      "processing - output-38.mp4. (PID: 84679)\n",
      "[MoviePy] >>>> Building video output-37.mp4\n",
      "main pid: 56968\n"
     ]
    },
    {
     "name": "stderr",
     "output_type": "stream",
     "text": [
      " 12%|█▏        | 3/26 [00:00<00:00, 29.84it/s]"
     ]
    },
    {
     "name": "stdout",
     "output_type": "stream",
     "text": [
      "[MoviePy] Writing video output-37.mp4\n",
      "[MoviePy] >>>> Building video output-38.mp4\n",
      "main pid: 56968\n",
      "processing - output-39.mp4. (PID: 84774)\n"
     ]
    },
    {
     "name": "stderr",
     "output_type": "stream",
     "text": [
      "\r",
      "  0%|          | 0/26 [00:00<?, ?it/s]"
     ]
    },
    {
     "name": "stdout",
     "output_type": "stream",
     "text": [
      "[MoviePy] Writing video output-38.mp4\n"
     ]
    },
    {
     "name": "stderr",
     "output_type": "stream",
     "text": [
      " 15%|█▌        | 4/26 [00:00<00:00, 37.39it/s]"
     ]
    },
    {
     "name": "stdout",
     "output_type": "stream",
     "text": [
      "[MoviePy] >>>> Building video output-39.mp4\n",
      "processing - output-40.mp4. (PID: 84813)\n",
      "main pid: 56968\n",
      "[MoviePy] Writing video output-39.mp4\n"
     ]
    },
    {
     "name": "stderr",
     "output_type": "stream",
     "text": [
      "\r",
      "  0%|          | 0/26 [00:00<?, ?it/s]"
     ]
    },
    {
     "name": "stdout",
     "output_type": "stream",
     "text": [
      "main pid: 56968\n",
      "processing - output-41.mp4. (PID: 84827)\n",
      "[MoviePy] >>>> Building video output-40.mp4\n",
      "main pid: 56968\n"
     ]
    },
    {
     "name": "stderr",
     "output_type": "stream",
     "text": [
      "\r",
      " 15%|█▌        | 4/26 [00:00<00:00, 39.46it/s]"
     ]
    },
    {
     "name": "stdout",
     "output_type": "stream",
     "text": [
      "[MoviePy] Writing video output-40.mp4\n",
      "[MoviePy] >>>> Building video output-41.mp4\n",
      "processing - output-42.mp4. (PID: 84866)\n"
     ]
    },
    {
     "name": "stderr",
     "output_type": "stream",
     "text": [
      "\r",
      " 12%|█▏        | 3/26 [00:00<00:00, 28.36it/s]"
     ]
    },
    {
     "name": "stdout",
     "output_type": "stream",
     "text": [
      "[MoviePy] >>>> Building video output-42.mp4\n",
      "processing - output-43.mp4. (PID: 84907)\n",
      "[MoviePy] Writing video output-41.mp4\n",
      "main pid: 56968\n",
      "[MoviePy] Writing video output-42.mp4\n"
     ]
    },
    {
     "name": "stderr",
     "output_type": "stream",
     "text": [
      "\r",
      " 23%|██▎       | 6/26 [00:00<00:00, 54.79it/s]"
     ]
    },
    {
     "name": "stdout",
     "output_type": "stream",
     "text": [
      "[MoviePy] >>>> Building video output-43.mp4\n"
     ]
    },
    {
     "name": "stderr",
     "output_type": "stream",
     "text": [
      "\r",
      " 35%|███▍      | 9/26 [00:00<00:00, 39.57it/s]"
     ]
    },
    {
     "name": "stdout",
     "output_type": "stream",
     "text": [
      "processing - output-44.mp4. (PID: 84975)\n",
      "[MoviePy] Writing video output-43.mp4\n",
      "main pid: 56968\n",
      "processing - output-45.mp4. (PID: 84989)\n"
     ]
    },
    {
     "name": "stderr",
     "output_type": "stream",
     "text": [
      "\r",
      " 27%|██▋       | 7/26 [00:00<00:00, 34.77it/s]"
     ]
    },
    {
     "name": "stdout",
     "output_type": "stream",
     "text": [
      "[MoviePy] >>>> Building video output-45.mp4\n",
      "[MoviePy] >>>> Building video output-44.mp4\n",
      "main pid: 56968"
     ]
    },
    {
     "name": "stderr",
     "output_type": "stream",
     "text": [
      "\r",
      " 31%|███       | 8/26 [00:00<00:00, 33.10it/s]"
     ]
    },
    {
     "name": "stdout",
     "output_type": "stream",
     "text": [
      "[MoviePy] Writing video output-45.mp4\n",
      "\n",
      "[MoviePy] Writing video output-44.mp4\n",
      "processing - output-46.mp4. (PID: 84999)\n"
     ]
    },
    {
     "name": "stderr",
     "output_type": "stream",
     "text": [
      "  0%|          | 0/26 [00:00<?, ?it/s].26it/s]"
     ]
    },
    {
     "name": "stdout",
     "output_type": "stream",
     "text": [
      "main pid: 56968\n",
      "[MoviePy] >>>> Building video output-46.mp4\n",
      "processing - output-47.mp4. (PID: 85013)\n"
     ]
    },
    {
     "name": "stderr",
     "output_type": "stream",
     "text": [
      "\r",
      " 42%|████▏     | 11/26 [00:00<00:00, 49.96it/s]"
     ]
    },
    {
     "name": "stdout",
     "output_type": "stream",
     "text": [
      "main pid: 56968\n",
      "[MoviePy] Writing video output-46.mp4\n"
     ]
    },
    {
     "name": "stderr",
     "output_type": "stream",
     "text": [
      "\r",
      " 12%|█▏        | 3/26 [00:00<00:00, 26.78it/s]"
     ]
    },
    {
     "name": "stdout",
     "output_type": "stream",
     "text": [
      "processing - output-48.mp4. (PID: 85028)\n"
     ]
    },
    {
     "name": "stderr",
     "output_type": "stream",
     "text": [
      "\r",
      " 38%|███▊      | 10/26 [00:00<00:00, 43.00it/s]"
     ]
    },
    {
     "name": "stdout",
     "output_type": "stream",
     "text": [
      "[MoviePy] >>>> Building video output-47.mp4\n",
      "[MoviePy] >>>> Building video output-48.mp4\n",
      "[MoviePy] Writing video output-47.mp4\n",
      "main pid: 56968\n",
      "[MoviePy] Writing video output-48.mp4\n"
     ]
    },
    {
     "name": "stderr",
     "output_type": "stream",
     "text": [
      " 50%|█████     | 13/26 [00:00<00:00, 39.41it/s]"
     ]
    },
    {
     "name": "stdout",
     "output_type": "stream",
     "text": [
      "processing - output-49.mp4. (PID: 85078)\n"
     ]
    },
    {
     "name": "stderr",
     "output_type": "stream",
     "text": [
      "\r",
      "  0%|          | 0/26 [00:00<?, ?it/s]"
     ]
    },
    {
     "name": "stdout",
     "output_type": "stream",
     "text": [
      "[MoviePy] >>>> Building video output-49.mp4\n"
     ]
    },
    {
     "name": "stderr",
     "output_type": "stream",
     "text": [
      "\r",
      "  0%|          | 0/26 [00:00<?, ?it/s]"
     ]
    },
    {
     "name": "stdout",
     "output_type": "stream",
     "text": [
      "[MoviePy] Writing video output-49.mp4\n",
      "processing - output-50.mp4. (PID: 85112)\n"
     ]
    },
    {
     "name": "stderr",
     "output_type": "stream",
     "text": [
      " 38%|███▊      | 10/26 [00:00<00:00, 27.40it/s]"
     ]
    },
    {
     "name": "stdout",
     "output_type": "stream",
     "text": [
      "[MoviePy] >>>> Building video output-50.mp4\n"
     ]
    },
    {
     "name": "stderr",
     "output_type": "stream",
     "text": [
      "\r",
      "  0%|          | 0/26 [00:00<?, ?it/s]"
     ]
    },
    {
     "name": "stdout",
     "output_type": "stream",
     "text": [
      "[MoviePy] Writing video output-50.mp4\n"
     ]
    },
    {
     "name": "stderr",
     "output_type": "stream",
     "text": [
      " 62%|██████▏   | 16/26 [00:00<00:00, 29.28it/s]"
     ]
    },
    {
     "name": "stdout",
     "output_type": "stream",
     "text": [
      "[MoviePy] Done.\n",
      "[MoviePy] >>>> Video ready: output-24.mp4 \n",
      "\n"
     ]
    },
    {
     "name": "stderr",
     "output_type": "stream",
     "text": [
      "\r",
      "  0%|          | 0/26 [00:00<?, ?it/s]"
     ]
    },
    {
     "name": "stdout",
     "output_type": "stream",
     "text": [
      "CPU times: user 119 ms, sys: 135 ms, total: 254 ms\n"
     ]
    },
    {
     "name": "stderr",
     "output_type": "stream",
     "text": [
      " 42%|████▏     | 11/26 [00:00<00:00, 19.08it/s]"
     ]
    },
    {
     "name": "stdout",
     "output_type": "stream",
     "text": [
      "Wall time: 1.62 s\n"
     ]
    },
    {
     "name": "stderr",
     "output_type": "stream",
     "text": [
      " 15%|█▌        | 4/26 [00:00<00:00, 36.62it/s]]"
     ]
    },
    {
     "name": "stdout",
     "output_type": "stream",
     "text": [
      "[MoviePy] Done.\n",
      "[MoviePy] >>>> Video ready: output-26.mp4 \n",
      "\n"
     ]
    },
    {
     "name": "stderr",
     "output_type": "stream",
     "text": [
      "\r",
      " 65%|██████▌   | 17/26 [00:00<00:00, 24.14it/s]"
     ]
    },
    {
     "name": "stdout",
     "output_type": "stream",
     "text": [
      "CPU times: user 107 ms, sys: 92.7 ms, total: 199 ms\n",
      "Wall time: 1.23 s\n"
     ]
    },
    {
     "name": "stderr",
     "output_type": "stream",
     "text": [
      " 69%|██████▉   | 18/26 [00:00<00:00, 16.30it/s]"
     ]
    },
    {
     "name": "stdout",
     "output_type": "stream",
     "text": [
      "[MoviePy] Done.\n",
      "[MoviePy] >>>> Video ready: output-25.mp4 \n",
      "\n"
     ]
    },
    {
     "name": "stderr",
     "output_type": "stream",
     "text": [
      " 38%|███▊      | 10/26 [00:00<00:00, 19.74it/s]"
     ]
    },
    {
     "name": "stdout",
     "output_type": "stream",
     "text": [
      "CPU times: user 80.1 ms, sys: 195 ms, total: 275 ms\n"
     ]
    },
    {
     "name": "stderr",
     "output_type": "stream",
     "text": [
      "\r",
      " 54%|█████▍    | 14/26 [00:00<00:00, 25.49it/s]"
     ]
    },
    {
     "name": "stdout",
     "output_type": "stream",
     "text": [
      "Wall time: 1.61 s\n"
     ]
    },
    {
     "name": "stderr",
     "output_type": "stream",
     "text": [
      " 96%|█████████▌| 25/26 [00:01<00:00, 23.53it/s]\n",
      " 58%|█████▊    | 15/26 [00:00<00:00, 31.67it/s]\n",
      " 96%|█████████▌| 25/26 [00:01<00:00, 22.30it/s]\n",
      " 92%|█████████▏| 24/26 [00:00<00:00, 30.13it/s]\n",
      " 96%|█████████▌| 25/26 [00:01<00:00, 18.77it/s]\n",
      " 96%|█████████▌| 25/26 [00:01<00:00, 21.23it/s]\n",
      " 96%|█████████▌| 25/26 [00:01<00:00, 20.51it/s]\n",
      " 50%|█████     | 13/26 [00:00<00:00, 20.25it/s]\n",
      " 46%|████▌     | 12/26 [00:00<00:00, 19.53it/s]"
     ]
    },
    {
     "name": "stdout",
     "output_type": "stream",
     "text": [
      "[MoviePy] Done.\n"
     ]
    },
    {
     "name": "stderr",
     "output_type": "stream",
     "text": [
      "\r",
      " 42%|████▏     | 11/26 [00:00<00:00, 20.72it/s]"
     ]
    },
    {
     "name": "stdout",
     "output_type": "stream",
     "text": [
      "[MoviePy] >>>> Video ready: output-27.mp4 \n",
      "\n"
     ]
    },
    {
     "name": "stderr",
     "output_type": "stream",
     "text": [
      "\r",
      " 85%|████████▍ | 22/26 [00:01<00:00, 15.39it/s]"
     ]
    },
    {
     "name": "stdout",
     "output_type": "stream",
     "text": [
      "[MoviePy] Done.\n",
      "CPU times: user 103 ms, sys: 101 ms, total: 204 ms\n",
      "[MoviePy] >>>> Video ready: output-30.mp4 \n",
      "\n",
      "CPU times: user 113 ms, sys: 102 ms, total: 216 ms\n",
      "Wall time: 1.46 s\n"
     ]
    },
    {
     "name": "stderr",
     "output_type": "stream",
     "text": [
      "\r",
      " 27%|██▋       | 7/26 [00:00<00:01, 18.09it/s]"
     ]
    },
    {
     "name": "stdout",
     "output_type": "stream",
     "text": [
      "Wall time: 1.44 s\n"
     ]
    },
    {
     "name": "stderr",
     "output_type": "stream",
     "text": [
      " 96%|█████████▌| 25/26 [00:01<00:00, 23.61it/s]\n",
      " 69%|██████▉   | 18/26 [00:01<00:00, 16.27it/s]"
     ]
    },
    {
     "name": "stdout",
     "output_type": "stream",
     "text": [
      "[MoviePy] Done.\n",
      "[MoviePy] >>>> Video ready: output-33.mp4 \n",
      "\n"
     ]
    },
    {
     "name": "stderr",
     "output_type": "stream",
     "text": [
      " 50%|█████     | 13/26 [00:00<00:00, 17.39it/s]"
     ]
    },
    {
     "name": "stdout",
     "output_type": "stream",
     "text": [
      "CPU times: user 80.1 ms, sys: 107 ms, total: 187 ms\n",
      "Wall time: 1.51 s\n"
     ]
    },
    {
     "name": "stderr",
     "output_type": "stream",
     "text": [
      " 96%|█████████▌| 25/26 [00:01<00:00, 21.70it/s]\n",
      " 54%|█████▍    | 14/26 [00:00<00:00, 17.45it/s]\n",
      " 96%|█████████▌| 25/26 [00:01<00:00, 24.13it/s]\n"
     ]
    },
    {
     "name": "stdout",
     "output_type": "stream",
     "text": [
      "[MoviePy] Done.\n"
     ]
    },
    {
     "name": "stderr",
     "output_type": "stream",
     "text": [
      "\r",
      " 96%|█████████▌| 25/26 [00:01<00:00, 14.57it/s]"
     ]
    },
    {
     "name": "stdout",
     "output_type": "stream",
     "text": [
      "[MoviePy] >>>> Video ready: output-35.mp4 \n",
      "\n"
     ]
    },
    {
     "name": "stderr",
     "output_type": "stream",
     "text": [
      "\n",
      " 65%|██████▌   | 17/26 [00:01<00:00, 13.43it/s]"
     ]
    },
    {
     "name": "stdout",
     "output_type": "stream",
     "text": [
      "CPU times: user 122 ms, sys: 117 ms, total: 239 ms\n",
      "Wall time: 1.67 s\n"
     ]
    },
    {
     "name": "stderr",
     "output_type": "stream",
     "text": [
      "\r",
      " 88%|████████▊ | 23/26 [00:01<00:00, 17.81it/s]"
     ]
    },
    {
     "name": "stdout",
     "output_type": "stream",
     "text": [
      "[MoviePy] Done.\n"
     ]
    },
    {
     "name": "stderr",
     "output_type": "stream",
     "text": [
      "\r",
      " 85%|████████▍ | 22/26 [00:01<00:00, 14.14it/s]"
     ]
    },
    {
     "name": "stdout",
     "output_type": "stream",
     "text": [
      "[MoviePy] Done.\n",
      "[MoviePy] >>>> Video ready: output-31.mp4 \n",
      "\n",
      "[MoviePy] Done.\n",
      "[MoviePy] >>>> Video ready: output-38.mp4 \n",
      "\n",
      "[MoviePy] >>>> Video ready: output-34.mp4 \n",
      "\n"
     ]
    },
    {
     "name": "stderr",
     "output_type": "stream",
     "text": [
      "\r",
      " 96%|█████████▌| 25/26 [00:01<00:00, 18.77it/s]"
     ]
    },
    {
     "name": "stdout",
     "output_type": "stream",
     "text": [
      "CPU times: user 122 ms, sys: 115 ms, total: 237 ms\n"
     ]
    },
    {
     "name": "stderr",
     "output_type": "stream",
     "text": [
      "\n"
     ]
    },
    {
     "name": "stdout",
     "output_type": "stream",
     "text": [
      "CPU times: user 114 ms, sys: 117 ms, total: 231 ms\n",
      "Wall time: 1.63 s\n",
      "Wall time: 1.71 s\n"
     ]
    },
    {
     "name": "stderr",
     "output_type": "stream",
     "text": [
      " 65%|██████▌   | 17/26 [00:00<00:00, 15.59it/s]"
     ]
    },
    {
     "name": "stdout",
     "output_type": "stream",
     "text": [
      "CPU times: user 114 ms, sys: 111 ms, total: 224 ms\n"
     ]
    },
    {
     "name": "stderr",
     "output_type": "stream",
     "text": [
      "\r",
      " 50%|█████     | 13/26 [00:00<00:00, 15.77it/s]"
     ]
    },
    {
     "name": "stdout",
     "output_type": "stream",
     "text": [
      "Wall time: 1.77 s\n"
     ]
    },
    {
     "name": "stderr",
     "output_type": "stream",
     "text": [
      "\r",
      " 85%|████████▍ | 22/26 [00:01<00:00, 16.63it/s]"
     ]
    },
    {
     "name": "stdout",
     "output_type": "stream",
     "text": [
      "[MoviePy] Done.\n",
      "[MoviePy] >>>> Video ready: output-32.mp4 \n",
      "\n"
     ]
    },
    {
     "name": "stderr",
     "output_type": "stream",
     "text": [
      " 81%|████████  | 21/26 [00:01<00:00, 14.90it/s]"
     ]
    },
    {
     "name": "stdout",
     "output_type": "stream",
     "text": [
      "CPU times: user 107 ms, sys: 111 ms, total: 218 ms\n",
      "Wall time: 1.82 s\n"
     ]
    },
    {
     "name": "stderr",
     "output_type": "stream",
     "text": [
      " 96%|█████████▌| 25/26 [00:01<00:00, 17.84it/s]\n"
     ]
    },
    {
     "name": "stdout",
     "output_type": "stream",
     "text": [
      "[MoviePy] Done.\n",
      "[MoviePy] >>>> Video ready: output-28.mp4 \n",
      "\n"
     ]
    },
    {
     "name": "stderr",
     "output_type": "stream",
     "text": [
      " 77%|███████▋  | 20/26 [00:01<00:00, 18.97it/s]"
     ]
    },
    {
     "name": "stdout",
     "output_type": "stream",
     "text": [
      "CPU times: user 141 ms, sys: 97.8 ms, total: 239 ms\n"
     ]
    },
    {
     "name": "stderr",
     "output_type": "stream",
     "text": [
      "\r",
      " 92%|█████████▏| 24/26 [00:01<00:00, 17.23it/s]"
     ]
    },
    {
     "name": "stdout",
     "output_type": "stream",
     "text": [
      "Wall time: 1.93 s\n"
     ]
    },
    {
     "name": "stderr",
     "output_type": "stream",
     "text": [
      " 96%|█████████▌| 25/26 [00:01<00:00, 15.60it/s]\n",
      " 96%|█████████▌| 25/26 [00:01<00:00, 18.99it/s]\n",
      " 96%|█████████▌| 25/26 [00:01<00:00, 17.21it/s]\n",
      " 96%|█████████▌| 25/26 [00:01<00:00, 20.49it/s]\n",
      " 96%|█████████▌| 25/26 [00:01<00:00, 18.68it/s]"
     ]
    },
    {
     "name": "stdout",
     "output_type": "stream",
     "text": [
      "[MoviePy] Done.\n"
     ]
    },
    {
     "name": "stderr",
     "output_type": "stream",
     "text": [
      "\n"
     ]
    },
    {
     "name": "stdout",
     "output_type": "stream",
     "text": [
      "[MoviePy] >>>> Video ready: output-44.mp4 \n",
      "\n"
     ]
    },
    {
     "name": "stderr",
     "output_type": "stream",
     "text": [
      " 96%|█████████▌| 25/26 [00:01<00:00, 17.15it/s]\n"
     ]
    },
    {
     "name": "stdout",
     "output_type": "stream",
     "text": [
      "CPU times: user 115 ms, sys: 115 ms, total: 231 ms\n",
      "[MoviePy] Done.\n"
     ]
    },
    {
     "name": "stderr",
     "output_type": "stream",
     "text": [
      "\r",
      " 96%|█████████▌| 25/26 [00:01<00:00, 20.31it/s]"
     ]
    },
    {
     "name": "stdout",
     "output_type": "stream",
     "text": [
      "[MoviePy] >>>> Video ready: output-39.mp4 \n",
      "\n",
      "Wall time: 1.77 s\n"
     ]
    },
    {
     "name": "stderr",
     "output_type": "stream",
     "text": [
      "\n"
     ]
    },
    {
     "name": "stdout",
     "output_type": "stream",
     "text": [
      "CPU times: user 116 ms, sys: 128 ms, total: 244 ms\n"
     ]
    },
    {
     "name": "stderr",
     "output_type": "stream",
     "text": [
      "\r",
      " 88%|████████▊ | 23/26 [00:01<00:00, 13.51it/s]"
     ]
    },
    {
     "name": "stdout",
     "output_type": "stream",
     "text": [
      "Wall time: 1.92 s\n",
      "[MoviePy] Done.\n"
     ]
    },
    {
     "name": "stderr",
     "output_type": "stream",
     "text": [
      "\r",
      " 85%|████████▍ | 22/26 [00:01<00:00, 21.18it/s]"
     ]
    },
    {
     "name": "stdout",
     "output_type": "stream",
     "text": [
      "[MoviePy] >>>> Video ready: output-41.mp4 \n",
      "\n"
     ]
    },
    {
     "name": "stderr",
     "output_type": "stream",
     "text": [
      "\r",
      " 96%|█████████▌| 25/26 [00:01<00:00, 16.16it/s]"
     ]
    },
    {
     "name": "stdout",
     "output_type": "stream",
     "text": [
      "CPU times: user 122 ms, sys: 131 ms, total: 253 ms\n"
     ]
    },
    {
     "name": "stderr",
     "output_type": "stream",
     "text": [
      "\n"
     ]
    },
    {
     "name": "stdout",
     "output_type": "stream",
     "text": [
      "Wall time: 1.92 s\n"
     ]
    },
    {
     "name": "stderr",
     "output_type": "stream",
     "text": [
      "\r",
      " 96%|█████████▌| 25/26 [00:01<00:00, 22.85it/s]"
     ]
    },
    {
     "name": "stdout",
     "output_type": "stream",
     "text": [
      "[MoviePy] Done.\n"
     ]
    },
    {
     "name": "stderr",
     "output_type": "stream",
     "text": [
      "\n"
     ]
    },
    {
     "name": "stdout",
     "output_type": "stream",
     "text": [
      "[MoviePy] >>>> Video ready: output-29.mp4 \n",
      "\n",
      "CPU times: user 138 ms, sys: 112 ms, total: 250 ms\n",
      "[MoviePy] Done.\n",
      "Wall time: 2.22 s\n",
      "[MoviePy] >>>> Video ready: output-40.mp4 \n",
      "\n",
      "[MoviePy] Done.\n",
      "CPU times: user 118 ms, sys: 107 ms, total: 225 ms\n",
      "[MoviePy] >>>> Video ready: output-37.mp4 \n",
      "\n",
      "CPU times: user 131 ms, sys: 115 ms, total: 246 ms\n",
      "Wall time: 2.03 s\n",
      "Wall time: 2.12 s\n",
      "[MoviePy] Done.\n",
      "[MoviePy] >>>> Video ready: output-36.mp4 \n",
      "\n",
      "CPU times: user 129 ms, sys: 116 ms, total: 245 ms\n",
      "Wall time: 2.2 s\n",
      "[MoviePy] Done.\n",
      "[MoviePy] >>>> Video ready: output-49.mp4 \n",
      "\n",
      "CPU times: user 129 ms, sys: 111 ms, total: 240 ms\n",
      "Wall time: 1.94 s\n",
      "[MoviePy] Done.\n",
      "[MoviePy] >>>> Video ready: output-48.mp4 \n",
      "\n",
      "CPU times: user 136 ms, sys: 110 ms, total: 245 ms\n",
      "Wall time: 2.03 s\n",
      "[MoviePy] Done.\n",
      "[MoviePy] >>>> Video ready: output-43.mp4 \n",
      "\n",
      "CPU times: user 104 ms, sys: 107 ms, total: 211 ms\n",
      "Wall time: 2.17 s\n",
      "[MoviePy] Done.\n",
      "[MoviePy] Done.\n",
      "[MoviePy] >>>> Video ready: output-45.mp4 \n",
      "\n",
      "[MoviePy] >>>> Video ready: output-42.mp4 \n",
      "\n",
      "CPU times: user 121 ms, sys: 141 ms, total: 262 ms\n",
      "[MoviePy] Done.\n",
      "Wall time: 2.18 s\n",
      "CPU times: user 136 ms, sys: 107 ms, total: 243 ms\n",
      "[MoviePy] >>>> Video ready: output-46.mp4 \n",
      "\n",
      "Wall time: 2.24 s\n",
      "CPU times: user 132 ms, sys: 108 ms, total: 240 ms\n",
      "Wall time: 2.14 s\n",
      "[MoviePy] Done.\n",
      "[MoviePy] Done.\n",
      "[MoviePy] >>>> Video ready: output-47.mp4 \n",
      "\n",
      "[MoviePy] >>>> Video ready: output-50.mp4 \n",
      "\n",
      "CPU times: user 114 ms, sys: 119 ms, total: 233 ms\n",
      "CPU times: user 130 ms, sys: 106 ms, total: 237 ms\n",
      "Wall time: 2.13 s\n",
      "Wall time: 2.05 s\n"
     ]
    }
   ],
   "source": [
    "def process_image(image):\n",
    "    return image\n",
    "\n",
    "def process_clip(clip, output_file, index):\n",
    "    filename = '{}-{}.mp4'.format(output_file, index)\n",
    "    print('processing - %s. (PID: %s)' % (filename, os.getpid()))\n",
    "    processed_clip = clip.fl_image(process_image)\n",
    "    %time processed_clip.write_videofile(filename, audio=False)\n",
    "\n",
    "output_file = 'output'\n",
    "input_video = VideoFileClip('project_video.mp4')\n",
    "duration = int(input_video.duration)\n",
    "\n",
    "clips = []\n",
    "for i in range(1, duration+1):\n",
    "    print('main pid: %s' % os.getpid())\n",
    "    clip = input_video.subclip(i-1, i)\n",
    "    p = multiprocessing.Process(target=process_clip, args=(clip, output_file, i))\n",
    "    p.start()"
   ]
  },
  {
   "cell_type": "code",
   "execution_count": null,
   "metadata": {},
   "outputs": [],
   "source": []
  }
 ],
 "metadata": {
  "kernelspec": {
   "display_name": "Python 3",
   "language": "python",
   "name": "python3"
  },
  "language_info": {
   "codemirror_mode": {
    "name": "ipython",
    "version": 3
   },
   "file_extension": ".py",
   "mimetype": "text/x-python",
   "name": "python",
   "nbconvert_exporter": "python",
   "pygments_lexer": "ipython3",
   "version": "3.7.0"
  }
 },
 "nbformat": 4,
 "nbformat_minor": 2
}
